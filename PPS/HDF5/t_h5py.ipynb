{
 "cells": [
  {
   "cell_type": "code",
   "execution_count": 4,
   "metadata": {},
   "outputs": [
    {
     "name": "stdout",
     "output_type": "stream",
     "text": [
      "Data06.dat\n",
      "<class 'str'>\n",
      "dataset1\n",
      "<class 'str'>\n",
      "dataset2\n",
      "<class 'str'>\n",
      "dataset3\n",
      "<class 'str'>\n",
      "dataset4\n",
      "<class 'str'>\n",
      "dataset5\n",
      "<class 'str'>\n"
     ]
    }
   ],
   "source": [
    "import h5py\n",
    "\n",
    "with h5py.File(\"./combined_data.h5\", 'r') as hdf:\n",
    "  for group in hdf:\n",
    "    print(group)\n",
    "    print(type(group))\n",
    "\n",
    "  #fileList = hdf.keys()\n",
    "  #print(type(fileList), fileList)"
   ]
  }
 ],
 "metadata": {
  "kernelspec": {
   "display_name": "FastSim",
   "language": "python",
   "name": "python3"
  },
  "language_info": {
   "codemirror_mode": {
    "name": "ipython",
    "version": 3
   },
   "file_extension": ".py",
   "mimetype": "text/x-python",
   "name": "python",
   "nbconvert_exporter": "python",
   "pygments_lexer": "ipython3",
   "version": "3.10.15"
  }
 },
 "nbformat": 4,
 "nbformat_minor": 2
}
