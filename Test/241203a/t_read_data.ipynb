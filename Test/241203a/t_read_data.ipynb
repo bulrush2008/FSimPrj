{
 "cells": [
  {
   "cell_type": "code",
   "execution_count": 9,
   "metadata": {},
   "outputs": [
    {
     "data": {
      "text/plain": [
       "'\\nimport numpy as np\\n\\nwith open(\"./demo.dat\", \"rb\") as f:\\n  f.seek(22)\\n  data_ints = np.fromfile(f, dtype=np.int32, count=1)\\n  print(data_ints)\\n\\n  data_floats = np.fromfile(f, dtype=np.float64, count=data_ints[0])\\n  print(data_floats)\\n  print(len(data_floats))\\n'"
      ]
     },
     "execution_count": 9,
     "metadata": {},
     "output_type": "execute_result"
    }
   ],
   "source": [
    "'''\n",
    "import numpy as np\n",
    "\n",
    "with open(\"./demo.dat\", \"rb\") as f:\n",
    "  f.seek(22)\n",
    "  data_ints = np.fromfile(f, dtype=np.int32, count=1)\n",
    "  print(data_ints)\n",
    "\n",
    "  data_floats = np.fromfile(f, dtype=np.float64, count=data_ints[0])\n",
    "  print(data_floats)\n",
    "  print(len(data_floats))\n",
    "'''"
   ]
  },
  {
   "cell_type": "code",
   "execution_count": 12,
   "metadata": {},
   "outputs": [
    {
     "name": "stdout",
     "output_type": "stream",
     "text": [
      "[20]\n",
      "[11.10000038 12.10000038 13.10000038 14.10000038 21.10000038 22.10000038\n",
      " 23.10000038 24.10000038 31.10000038 32.09999847 33.09999847 34.09999847\n",
      " 41.09999847 42.09999847 43.09999847 44.09999847 51.09999847 52.09999847\n",
      " 53.09999847 54.09999847]\n",
      "20\n"
     ]
    }
   ],
   "source": [
    "import numpy as np\n",
    "\n",
    "offset = 0\n",
    "\n",
    "with open(\"./demo.dat\", \"rb\") as f:\n",
    "  line = f.readline(); offset += len(line)#; print(offset)\n",
    "  #f.seek(offset) # seek is not necessary\n",
    "\n",
    "  data_ints = np.fromfile(f, dtype=np.int32, count=1)\n",
    "  print(data_ints)\n",
    "\n",
    "  data_floats = np.fromfile(f, dtype=np.float64, count=data_ints[0])\n",
    "  print(data_floats)\n",
    "  print(len(data_floats))"
   ]
  }
 ],
 "metadata": {
  "kernelspec": {
   "display_name": "FastSim",
   "language": "python",
   "name": "python3"
  },
  "language_info": {
   "codemirror_mode": {
    "name": "ipython",
    "version": 3
   },
   "file_extension": ".py",
   "mimetype": "text/x-python",
   "name": "python",
   "nbconvert_exporter": "python",
   "pygments_lexer": "ipython3",
   "version": "3.10.15"
  }
 },
 "nbformat": 4,
 "nbformat_minor": 2
}
