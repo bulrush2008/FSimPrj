{
 "cells": [
  {
   "cell_type": "code",
   "execution_count": 5,
   "metadata": {},
   "outputs": [
    {
     "name": "stdout",
     "output_type": "stream",
     "text": [
      "/usr <class 'pathlib.PurePosixPath'>\n",
      "/usr/local\n",
      "/usr/share\n",
      "/usr/..\n"
     ]
    }
   ],
   "source": [
    "import pathlib\n",
    "\n",
    "usr = pathlib.PurePosixPath(\"/usr\")\n",
    "print(usr, type(usr))\n",
    "\n",
    "usr_local = usr/\"local\"; print(usr_local)\n",
    "\n",
    "usr_share = usr / pathlib.PurePosixPath(\"share\"); print(usr_share)\n",
    "\n",
    "root = usr / \"..\"; print(root)"
   ]
  }
 ],
 "metadata": {
  "kernelspec": {
   "display_name": "FastSim",
   "language": "python",
   "name": "python3"
  },
  "language_info": {
   "codemirror_mode": {
    "name": "ipython",
    "version": 3
   },
   "file_extension": ".py",
   "mimetype": "text/x-python",
   "name": "python",
   "nbconvert_exporter": "python",
   "pygments_lexer": "ipython3",
   "version": "3.10.15"
  }
 },
 "nbformat": 4,
 "nbformat_minor": 2
}
