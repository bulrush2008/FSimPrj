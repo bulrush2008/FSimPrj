{
 "cells": [
  {
   "cell_type": "code",
   "execution_count": 3,
   "metadata": {},
   "outputs": [
    {
     "name": "stdout",
     "output_type": "stream",
     "text": [
      "..\\FSCases\n"
     ]
    }
   ],
   "source": [
    "from pathlib import Path\n",
    "\n",
    "dir = Path(\"../FSCases\")\n",
    "\n",
    "print(dir)"
   ]
  }
 ],
 "metadata": {
  "kernelspec": {
   "display_name": "FastSim",
   "language": "python",
   "name": "python3"
  },
  "language_info": {
   "codemirror_mode": {
    "name": "ipython",
    "version": 3
   },
   "file_extension": ".py",
   "mimetype": "text/x-python",
   "name": "python",
   "nbconvert_exporter": "python",
   "pygments_lexer": "ipython3",
   "version": "3.10.15"
  }
 },
 "nbformat": 4,
 "nbformat_minor": 2
}
