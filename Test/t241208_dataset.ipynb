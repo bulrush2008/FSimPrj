{
 "cells": [
  {
   "cell_type": "code",
   "execution_count": 1,
   "metadata": {},
   "outputs": [
    {
     "name": "stdout",
     "output_type": "stream",
     "text": [
      "Total size: 1440\n",
      "First bytes: b'\\x89HDF\\r\\n\\x1a\\n\\x00\\x00'\n"
     ]
    }
   ],
   "source": [
    "\"\"\"Create an HDF5 file in memory and retrieve the raw bytes\n",
    "\n",
    "This could be used, for instance, in a server producing small HDF5\n",
    "files on demand.\n",
    "\"\"\"\n",
    "import io\n",
    "import h5py\n",
    "\n",
    "bio = io.BytesIO()\n",
    "with h5py.File(bio, 'w') as f:\n",
    "    f['dataset'] = range(10)\n",
    "\n",
    "data = bio.getvalue() # data is a regular Python bytes object.\n",
    "print(\"Total size:\", len(data))\n",
    "print(\"First bytes:\", data[:10])"
   ]
  }
 ],
 "metadata": {
  "kernelspec": {
   "display_name": "FastSim",
   "language": "python",
   "name": "python3"
  },
  "language_info": {
   "codemirror_mode": {
    "name": "ipython",
    "version": 3
   },
   "file_extension": ".py",
   "mimetype": "text/x-python",
   "name": "python",
   "nbconvert_exporter": "python",
   "pygments_lexer": "ipython3",
   "version": "3.10.15"
  }
 },
 "nbformat": 4,
 "nbformat_minor": 2
}
