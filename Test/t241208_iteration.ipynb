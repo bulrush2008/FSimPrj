{
 "cells": [
  {
   "cell_type": "code",
   "execution_count": 3,
   "metadata": {},
   "outputs": [
    {
     "name": "stdout",
     "output_type": "stream",
     "text": [
      "XiaoMing\n",
      "LaoZhang\n",
      "DaLiu\n",
      "0 XiaoMing\n",
      "1 LaoZhang\n",
      "2 DaLiu\n"
     ]
    }
   ],
   "source": [
    "\n",
    "a = [\"XiaoMing\",\"LaoZhang\",\"DaLiu\"]\n",
    "\n",
    "for ele in a:  # wrong use\n",
    "  print(ele)\n",
    "\n",
    "for idx, ele in enumerate(a):\n",
    "  print(idx, ele)"
   ]
  }
 ],
 "metadata": {
  "kernelspec": {
   "display_name": "FastSim",
   "language": "python",
   "name": "python3"
  },
  "language_info": {
   "codemirror_mode": {
    "name": "ipython",
    "version": 3
   },
   "file_extension": ".py",
   "mimetype": "text/x-python",
   "name": "python",
   "nbconvert_exporter": "python",
   "pygments_lexer": "ipython3",
   "version": "3.10.15"
  }
 },
 "nbformat": 4,
 "nbformat_minor": 2
}
