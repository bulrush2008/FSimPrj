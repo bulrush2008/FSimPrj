{
 "cells": [
  {
   "cell_type": "code",
   "execution_count": 2,
   "metadata": {},
   "outputs": [
    {
     "name": "stdout",
     "output_type": "stream",
     "text": [
      "Total size: 1440\n",
      "First bytes: b'\\x89HDF\\r\\n\\x1a\\n\\x00\\x00'\n"
     ]
    }
   ],
   "source": [
    "\"\"\"Create an HDF5 file in memory and retrieve the raw bytes\n",
    "\n",
    "This could be used, for instance, in a server producing small HDF5\n",
    "files on demand.\n",
    "\"\"\"\n",
    "import io\n",
    "import h5py\n",
    "\n",
    "bio = io.BytesIO()\n",
    "with h5py.File(bio, 'w') as f:\n",
    "    f['dataset'] = range(10)\n",
    "\n",
    "data = bio.getvalue() # data is a regular Python bytes object.\n",
    "print(\"Total size:\", len(data))\n",
    "print(\"First bytes:\", data[:10])"
   ]
  },
  {
   "cell_type": "code",
   "execution_count": null,
   "metadata": {},
   "outputs": [
    {
     "name": "stdout",
     "output_type": "stream",
     "text": [
      "This goes into the buffer.And so does this.\n",
      "\n",
      "This goes into the buffer.And so does this.\n",
      "0005\n",
      "\n",
      "This goes into the buffer.And so does this.\n",
      "0005\n",
      "       3.2500000\n"
     ]
    }
   ],
   "source": [
    "import io\n",
    "\n",
    "# writes to a buffer\n",
    "output = io.StringIO()\n",
    "\n",
    "output.write(\"This goes into the buffer.\")\n",
    "\n",
    "print(\"And so does this.\", file=output)\n",
    "\n",
    "# retrieve the value written\n",
    "print(output.getvalue())\n",
    "\n",
    "output.write(\"%04d\\n\"%5)  # note \"\\n\"\n",
    "print(output.getvalue())\n",
    "\n",
    "output.write(\"%16.7f\"%3.25)\n",
    "print(output.getvalue())\n",
    "\n",
    "output.close()  # Discard buffer memory"
   ]
  }
 ],
 "metadata": {
  "kernelspec": {
   "display_name": "FastSim",
   "language": "python",
   "name": "python3"
  },
  "language_info": {
   "codemirror_mode": {
    "name": "ipython",
    "version": 3
   },
   "file_extension": ".py",
   "mimetype": "text/x-python",
   "name": "python",
   "nbconvert_exporter": "python",
   "pygments_lexer": "ipython3",
   "version": "3.10.15"
  }
 },
 "nbformat": 4,
 "nbformat_minor": 2
}
