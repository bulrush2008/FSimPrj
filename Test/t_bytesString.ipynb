{
 "cells": [
  {
   "cell_type": "code",
   "execution_count": 1,
   "metadata": {},
   "outputs": [
    {
     "name": "stdout",
     "output_type": "stream",
     "text": [
      "H\n"
     ]
    }
   ],
   "source": [
    "a = \"Hello World\"\n",
    "print(a[0])"
   ]
  },
  {
   "cell_type": "code",
   "execution_count": null,
   "metadata": {},
   "outputs": [
    {
     "name": "stdout",
     "output_type": "stream",
     "text": [
      "72\n",
      "b'Hello World'\n",
      "11 11\n",
      "H 72\n",
      "e 101\n",
      "l 108\n",
      "l 108\n",
      "o 111\n",
      "  32\n",
      "W 87\n",
      "o 111\n",
      "r 114\n",
      "l 108\n",
      "d 100\n"
     ]
    }
   ],
   "source": [
    "b = b\"Hello World\"\n",
    "print(b[0])\n",
    "print(b)\n",
    "print(len(a), len(b))\n",
    "\n",
    "for i in range(len(a)):\n",
    "  print(a[i], b[i])"
   ]
  },
  {
   "cell_type": "code",
   "execution_count": 9,
   "metadata": {},
   "outputs": [
    {
     "name": "stdout",
     "output_type": "stream",
     "text": [
      "b'Hello World'\n",
      "b == c\n"
     ]
    }
   ],
   "source": [
    "c = a.encode(\"ASCII\")\n",
    "print(c)\n",
    "\n",
    "if b == c:\n",
    "  print(\"b == c\")"
   ]
  }
 ],
 "metadata": {
  "kernelspec": {
   "display_name": "FastSim",
   "language": "python",
   "name": "python3"
  },
  "language_info": {
   "codemirror_mode": {
    "name": "ipython",
    "version": 3
   },
   "file_extension": ".py",
   "mimetype": "text/x-python",
   "name": "python",
   "nbconvert_exporter": "python",
   "pygments_lexer": "ipython3",
   "version": "3.10.15"
  }
 },
 "nbformat": 4,
 "nbformat_minor": 2
}
