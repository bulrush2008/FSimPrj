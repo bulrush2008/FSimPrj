{
 "cells": [
  {
   "cell_type": "code",
   "execution_count": 3,
   "metadata": {},
   "outputs": [],
   "source": [
    "import h5py\n",
    "import numpy as np\n",
    "\n",
    "data = np.random.rand(1000, 1000).astype(\"float32\")\n",
    "\n",
    "fileName = \"optimized_data.h5\"\n",
    "\n",
    "with h5py.File(fileName, 'w') as f:\n",
    "  f.create_dataset(\"dataset\", data=data, chunks=(2,2))"
   ]
  }
 ],
 "metadata": {
  "kernelspec": {
   "display_name": "FastSim",
   "language": "python",
   "name": "python3"
  },
  "language_info": {
   "codemirror_mode": {
    "name": "ipython",
    "version": 3
   },
   "file_extension": ".py",
   "mimetype": "text/x-python",
   "name": "python",
   "nbconvert_exporter": "python",
   "pygments_lexer": "ipython3",
   "version": "3.10.15"
  }
 },
 "nbformat": 4,
 "nbformat_minor": 2
}
